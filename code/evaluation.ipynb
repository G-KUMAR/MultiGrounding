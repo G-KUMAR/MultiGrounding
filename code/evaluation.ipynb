{
 "cells": [
  {
   "cell_type": "code",
   "execution_count": null,
   "metadata": {},
   "outputs": [],
   "source": [
    "from evaluators import gnet_evaluator"
   ]
  },
  {
   "cell_type": "code",
   "execution_count": null,
   "metadata": {},
   "outputs": [],
   "source": [
    "path_dict = {'lmdb': '../data/saved/flickr/images.lmdb',\n",
    "             'annotations': '../data/saved/flickr/annotations/test.pickle'}\n",
    "ckpt_path = './models/groundnet_pnas_elmo_1x1_vg-10'\n",
    "gnet_config = './configs/pnas_elmo_1x1.yml'\n",
    "geval = gnet_evaluator(gpu='0', ckpt_path=ckpt_path, data_path=path_dict, gnet_config=gnet_config, query_level='sentence')"
   ]
  },
  {
   "cell_type": "code",
   "execution_count": null,
   "metadata": {},
   "outputs": [],
   "source": [
    "[iou_acc,\n",
    " hit_acc,\n",
    " att_crr,\n",
    " wrd_idx_list,\n",
    " sen_idx_list,\n",
    " cat_lvl_scores,\n",
    " cat_cnt_correct,\n",
    " cat_cnt_correct_hit,\n",
    " cat_att_correct] = geval()"
   ]
  }
 ],
 "metadata": {
  "kernelspec": {
   "display_name": "Python 3",
   "language": "python",
   "name": "python3"
  },
  "language_info": {
   "codemirror_mode": {
    "name": "ipython",
    "version": 3
   },
   "file_extension": ".py",
   "mimetype": "text/x-python",
   "name": "python",
   "nbconvert_exporter": "python",
   "pygments_lexer": "ipython3",
   "version": "3.6.1"
  }
 },
 "nbformat": 4,
 "nbformat_minor": 2
}
