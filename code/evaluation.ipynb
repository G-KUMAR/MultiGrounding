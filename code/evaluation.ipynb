{
 "cells": [
  {
   "cell_type": "code",
   "execution_count": 1,
   "metadata": {},
   "outputs": [
    {
     "name": "stderr",
     "output_type": "stream",
     "text": [
      "WARNING: Logging before flag parsing goes to stderr.\n",
      "W1017 08:48:08.791091 140425972651776 deprecation_wrapper.py:119] From /dvmm-filer2/users/svebor/anaconda3/envs/grounding_pineapple/lib/python3.6/site-packages/tensorflow_hub/tf_v1.py:32: The name tf.add_to_collection is deprecated. Please use tf.compat.v1.add_to_collection instead.\n",
      "\n",
      "W1017 08:48:08.794901 140425972651776 deprecation_wrapper.py:119] From /dvmm-filer2/users/svebor/anaconda3/envs/grounding_pineapple/lib/python3.6/site-packages/tensorflow_hub/tf_v1.py:34: The name tf.assign is deprecated. Please use tf.compat.v1.assign instead.\n",
      "\n",
      "W1017 08:48:08.796103 140425972651776 deprecation_wrapper.py:119] From /dvmm-filer2/users/svebor/anaconda3/envs/grounding_pineapple/lib/python3.6/site-packages/tensorflow_hub/tf_v1.py:35: The name tf.assign_add is deprecated. Please use tf.compat.v1.assign_add instead.\n",
      "\n",
      "W1017 08:48:08.797300 140425972651776 deprecation_wrapper.py:119] From /dvmm-filer2/users/svebor/anaconda3/envs/grounding_pineapple/lib/python3.6/site-packages/tensorflow_hub/tf_v1.py:36: The name tf.AttrValue is deprecated. Please use tf.compat.v1.AttrValue instead.\n",
      "\n",
      "W1017 08:48:08.798600 140425972651776 deprecation_wrapper.py:119] From /dvmm-filer2/users/svebor/anaconda3/envs/grounding_pineapple/lib/python3.6/site-packages/tensorflow_hub/tf_v1.py:39: The name tf.convert_to_tensor_or_indexed_slices is deprecated. Please use tf.compat.v1.convert_to_tensor_or_indexed_slices instead.\n",
      "\n",
      "W1017 08:48:08.819815 140425972651776 deprecation_wrapper.py:119] From /dvmm-filer2/users/svebor/anaconda3/envs/grounding_pineapple/lib/python3.6/site-packages/tensorflow_hub/saved_model_module.py:44: The name tf.saved_model.constants.LEGACY_INIT_OP_KEY is deprecated. Please use tf.compat.v1.saved_model.constants.LEGACY_INIT_OP_KEY instead.\n",
      "\n",
      "W1017 08:48:08.823240 140425972651776 deprecation_wrapper.py:119] From /dvmm-filer2/users/svebor/anaconda3/envs/grounding_pineapple/lib/python3.6/site-packages/tensorflow_hub/saved_model_module.py:45: The name tf.saved_model.constants.MAIN_OP_KEY is deprecated. Please use tf.compat.v1.saved_model.constants.MAIN_OP_KEY instead.\n",
      "\n",
      "W1017 08:48:12.123759 140425972651776 deprecation_wrapper.py:119] From /home/svebor/Grounding/MultiGrounding/code/utils.py:429: The name tf.train.SaverDef is deprecated. Please use tf.compat.v1.train.SaverDef instead.\n",
      "\n"
     ]
    }
   ],
   "source": [
    "# Choose the GPU on which you want to run the evaluation if you are running on a multi-GPU machine\n",
    "GPU_TARGET = 1\n",
    "from evaluators import gnet_evaluator"
   ]
  },
  {
   "cell_type": "code",
   "execution_count": 2,
   "metadata": {},
   "outputs": [],
   "source": [
    "dataset_pp = \"visual_genome_pp\" # OK\n",
    "dataset_pp = \"referit_pp\" # OK, but much better than reported...\n",
    "dataset_pp = \"flickr30k_pp\" # Testing\n",
    "# NB: MSCOCO is never used as test set"
   ]
  },
  {
   "cell_type": "code",
   "execution_count": 3,
   "metadata": {},
   "outputs": [
    {
     "name": "stderr",
     "output_type": "stream",
     "text": [
      "/home/svebor/Grounding/MultiGrounding/code/evaluators.py:20: YAMLLoadWarning: calling yaml.load() without Loader=... is deprecated, as the default Loader is unsafe. Please read https://msg.pyyaml.org/load for full details.\n",
      "  self.gnet_config = yaml.load(open(gnet_config, 'r'))\n"
     ]
    },
    {
     "name": "stdout",
     "output_type": "stream",
     "text": [
      "Initializing evaluator...\n",
      "Initializing generator...\n",
      "\u001b[32m[1017 08:48:12 @parallel.py:231]\u001b[0m [MultiProcessRunner] Will fork a dataflow more than one times. This assumes the datapoints are i.i.d.\n",
      "\u001b[32m[1017 08:48:12 @argtools.py:146]\u001b[0m \u001b[5m\u001b[31mWRN\u001b[0m Starting a process with 'fork' method is not safe and may consume unnecessary extra CPU memory. Use 'forkserver' or 'spawn' method (available after Py3.4) instead if you run into any issues. See https://docs.python.org/3/library/multiprocessing.html#contexts-and-start-methods on how to set them.\n"
     ]
    },
    {
     "name": "stderr",
     "output_type": "stream",
     "text": [
      "/home/svebor/Grounding/MultiGrounding/code/evaluators.py:153: YAMLLoadWarning: calling yaml.load() without Loader=... is deprecated, as the default Loader is unsafe. Please read https://msg.pyyaml.org/load for full details.\n",
      "  self.gnet_config = yaml.load(open(gnet_config, 'r'))\n"
     ]
    },
    {
     "name": "stdout",
     "output_type": "stream",
     "text": [
      "Building Visual Model...\n"
     ]
    },
    {
     "name": "stderr",
     "output_type": "stream",
     "text": [
      "W1017 08:48:15.179302 140425972651776 deprecation_wrapper.py:119] From /dvmm-filer2/users/svebor/anaconda3/envs/grounding_pineapple/lib/python3.6/site-packages/tensorflow_hub/resolver.py:477: The name tf.gfile.Exists is deprecated. Please use tf.io.gfile.exists instead.\n",
      "\n",
      "W1017 08:48:15.180822 140425972651776 deprecation_wrapper.py:119] From /dvmm-filer2/users/svebor/anaconda3/envs/grounding_pineapple/lib/python3.6/site-packages/tensorflow_hub/native_module.py:94: The name tf.gfile.Open is deprecated. Please use tf.io.gfile.GFile instead.\n",
      "\n",
      "W1017 08:48:15.183643 140425972651776 deprecation_wrapper.py:119] From /dvmm-filer2/users/svebor/anaconda3/envs/grounding_pineapple/lib/python3.6/site-packages/tensorflow_hub/saved_model_lib.py:81: The name tf.saved_model.constants.SAVED_MODEL_FILENAME_PB is deprecated. Please use tf.saved_model.SAVED_MODEL_FILENAME_PB instead.\n",
      "\n",
      "W1017 08:48:15.202678 140425972651776 deprecation_wrapper.py:119] From /dvmm-filer2/users/svebor/anaconda3/envs/grounding_pineapple/lib/python3.6/site-packages/tensorflow_hub/saved_model_lib.py:222: The name tf.saved_model.constants.ASSETS_KEY is deprecated. Please use tf.saved_model.ASSETS_KEY instead.\n",
      "\n",
      "W1017 08:48:15.206758 140425972651776 deprecation_wrapper.py:119] From /dvmm-filer2/users/svebor/anaconda3/envs/grounding_pineapple/lib/python3.6/site-packages/tensorflow_hub/saved_model_lib.py:56: The name tf.saved_model.constants.VARIABLES_DIRECTORY is deprecated. Please use tf.saved_model.VARIABLES_DIRECTORY instead.\n",
      "\n",
      "W1017 08:48:15.260011 140425972651776 deprecation_wrapper.py:119] From /dvmm-filer2/users/svebor/anaconda3/envs/grounding_pineapple/lib/python3.6/site-packages/tensorflow_hub/native_module.py:446: The name tf.train.import_meta_graph is deprecated. Please use tf.compat.v1.train.import_meta_graph instead.\n",
      "\n"
     ]
    },
    {
     "name": "stdout",
     "output_type": "stream",
     "text": [
      "Building Text Model...\n"
     ]
    },
    {
     "name": "stderr",
     "output_type": "stream",
     "text": [
      "W1017 08:48:15.980210 140425972651776 deprecation_wrapper.py:119] From /dvmm-filer2/users/svebor/anaconda3/envs/grounding_pineapple/lib/python3.6/site-packages/tensorflow_hub/native_module.py:397: The name tf.train.init_from_checkpoint is deprecated. Please use tf.compat.v1.train.init_from_checkpoint instead.\n",
      "\n",
      "W1017 08:48:16.138931 140425972651776 deprecation_wrapper.py:119] From /dvmm-filer2/users/svebor/anaconda3/envs/grounding_pineapple/lib/python3.6/site-packages/tensorflow_hub/native_module.py:402: The name tf.train.Saver is deprecated. Please use tf.compat.v1.train.Saver instead.\n",
      "\n",
      "W1017 08:48:17.014115 140425972651776 deprecation.py:323] From /home/svebor/Grounding/MultiGrounding/code/groundnet.py:133: dense (from tensorflow.python.layers.core) is deprecated and will be removed in a future version.\n",
      "Instructions for updating:\n",
      "Use keras.layers.dense instead.\n",
      "W1017 08:48:17.021269 140425972651776 deprecation.py:506] From /dvmm-filer2/users/svebor/anaconda3/envs/grounding_pineapple/lib/python3.6/site-packages/tensorflow/python/ops/init_ops.py:1251: calling VarianceScaling.__init__ (from tensorflow.python.ops.init_ops) with dtype is deprecated and will be removed in a future version.\n",
      "Instructions for updating:\n",
      "Call initializer instance with the dtype argument instead of passing it to the constructor\n",
      "W1017 08:48:17.450130 140425972651776 deprecation.py:323] From /home/svebor/Grounding/MultiGrounding/code/groundnet.py:294: conv2d (from tensorflow.python.layers.convolutional) is deprecated and will be removed in a future version.\n",
      "Instructions for updating:\n",
      "Use `tf.keras.layers.Conv2D` instead.\n",
      "W1017 08:48:17.580900 140425972651776 deprecation_wrapper.py:119] From /home/svebor/Grounding/MultiGrounding/code/groundnet.py:315: The name tf.image.resize_images is deprecated. Please use tf.image.resize instead.\n",
      "\n"
     ]
    },
    {
     "name": "stdout",
     "output_type": "stream",
     "text": [
      "Common space mapping and attention...\n"
     ]
    },
    {
     "name": "stderr",
     "output_type": "stream",
     "text": [
      "W1017 08:48:18.308175 140425972651776 deprecation.py:323] From /home/svebor/Grounding/MultiGrounding/code/evaluators.py:177: initialize_all_tables (from tensorflow.python.ops.lookup_ops) is deprecated and will be removed in a future version.\n",
      "Instructions for updating:\n",
      "Use `tf.tables_initializer` instead.\n",
      "W1017 08:48:18.309731 140425972651776 deprecation.py:323] From /dvmm-filer2/users/svebor/anaconda3/envs/grounding_pineapple/lib/python3.6/site-packages/tensorflow/python/util/tf_should_use.py:193: initialize_all_variables (from tensorflow.python.ops.variables) is deprecated and will be removed after 2017-03-02.\n",
      "Instructions for updating:\n",
      "Use `tf.global_variables_initializer` instead.\n"
     ]
    },
    {
     "name": "stdout",
     "output_type": "stream",
     "text": [
      "Model built successfully.\n",
      "Restoring variables from checkpoint...\n"
     ]
    },
    {
     "name": "stderr",
     "output_type": "stream",
     "text": [
      "W1017 08:48:20.446647 140425972651776 deprecation.py:323] From /dvmm-filer2/users/svebor/anaconda3/envs/grounding_pineapple/lib/python3.6/site-packages/tensorflow/python/training/saver.py:1276: checkpoint_exists (from tensorflow.python.training.checkpoint_management) is deprecated and will be removed in a future version.\n",
      "Instructions for updating:\n",
      "Use standard file APIs to check for files with this prefix.\n"
     ]
    }
   ],
   "source": [
    "path_dict = {'lmdb': '../data/'+dataset_pp+'/images.lmdb',\n",
    "             'annotations': '../data/'+dataset_pp+'/annotations/test.pickle'}\n",
    "# The PNASNet model have not been transformed to V2 yet...\n",
    "#ckpt_path = './models/groundnet_pnas_elmo_1x1_vg-10'\n",
    "#gnet_config = './configs/pnas_elmo_1x1.yml'\n",
    "ckpt_path = './models/groundnet_vgg_elmo_1x1_vg_final'\n",
    "gnet_config = './configs/vgg_elmo_1x1.yml'\n",
    "#geval = gnet_evaluator(gpu='0', ckpt_path=ckpt_path, data_path=path_dict, gnet_config=gnet_config, query_level='sentence')\n",
    "geval = gnet_evaluator(gpu=str(GPU_TARGET), ckpt_path=ckpt_path, data_path=path_dict, gnet_config=gnet_config)"
   ]
  },
  {
   "cell_type": "code",
   "execution_count": 5,
   "metadata": {},
   "outputs": [
    {
     "ename": "IndexError",
     "evalue": "index 9 is out of bounds for axis 1 with size 5",
     "output_type": "error",
     "traceback": [
      "\u001b[0;31m---------------------------------------------------------------------------\u001b[0m",
      "\u001b[0;31mIndexError\u001b[0m                                Traceback (most recent call last)",
      "\u001b[0;32m<ipython-input-5-02b32fa60f6e>\u001b[0m in \u001b[0;36m<module>\u001b[0;34m\u001b[0m\n\u001b[1;32m      7\u001b[0m  \u001b[0mcat_cnt_correct\u001b[0m\u001b[0;34m,\u001b[0m\u001b[0;34m\u001b[0m\u001b[0;34m\u001b[0m\u001b[0m\n\u001b[1;32m      8\u001b[0m  \u001b[0mcat_cnt_correct_hit\u001b[0m\u001b[0;34m,\u001b[0m\u001b[0;34m\u001b[0m\u001b[0;34m\u001b[0m\u001b[0m\n\u001b[0;32m----> 9\u001b[0;31m  cat_att_correct] = geval()\n\u001b[0m",
      "\u001b[0;32m~/Grounding/MultiGrounding/code/evaluators.py\u001b[0m in \u001b[0;36m__call__\u001b[0;34m(self)\u001b[0m\n\u001b[1;32m     43\u001b[0m \u001b[0;34m\u001b[0m\u001b[0m\n\u001b[1;32m     44\u001b[0m         \u001b[0;32mdef\u001b[0m \u001b[0m__call__\u001b[0m\u001b[0;34m(\u001b[0m\u001b[0mself\u001b[0m\u001b[0;34m)\u001b[0m\u001b[0;34m:\u001b[0m\u001b[0;34m\u001b[0m\u001b[0;34m\u001b[0m\u001b[0m\n\u001b[0;32m---> 45\u001b[0;31m                 \u001b[0;32mreturn\u001b[0m \u001b[0mself\u001b[0m\u001b[0;34m.\u001b[0m\u001b[0mstart_validation\u001b[0m\u001b[0;34m(\u001b[0m\u001b[0;34m)\u001b[0m\u001b[0;34m\u001b[0m\u001b[0;34m\u001b[0m\u001b[0m\n\u001b[0m\u001b[1;32m     46\u001b[0m \u001b[0;34m\u001b[0m\u001b[0m\n\u001b[1;32m     47\u001b[0m         \u001b[0;32mdef\u001b[0m \u001b[0mstart_validation\u001b[0m\u001b[0;34m(\u001b[0m\u001b[0mself\u001b[0m\u001b[0;34m)\u001b[0m\u001b[0;34m:\u001b[0m\u001b[0;34m\u001b[0m\u001b[0;34m\u001b[0m\u001b[0m\n",
      "\u001b[0;32m~/Grounding/MultiGrounding/code/evaluators.py\u001b[0m in \u001b[0;36mstart_validation\u001b[0;34m(self)\u001b[0m\n\u001b[1;32m     95\u001b[0m                                                 \u001b[0mcat_cnt_overall\u001b[0m\u001b[0;34m[\u001b[0m\u001b[0mcat\u001b[0m\u001b[0;34m]\u001b[0m\u001b[0;34m+=\u001b[0m\u001b[0;36m1\u001b[0m\u001b[0;34m\u001b[0m\u001b[0;34m\u001b[0m\u001b[0m\n\u001b[1;32m     96\u001b[0m \u001b[0;34m\u001b[0m\u001b[0m\n\u001b[0;32m---> 97\u001b[0;31m                                         \u001b[0;32mif\u001b[0m \u001b[0mnp\u001b[0m\u001b[0;34m.\u001b[0m\u001b[0mmean\u001b[0m\u001b[0;34m(\u001b[0m\u001b[0mqry_scores\u001b[0m\u001b[0;34m[\u001b[0m\u001b[0mc\u001b[0m\u001b[0;34m,\u001b[0m\u001b[0midx\u001b[0m\u001b[0;34m]\u001b[0m\u001b[0;34m)\u001b[0m\u001b[0;34m==\u001b[0m\u001b[0;36m0\u001b[0m\u001b[0;34m:\u001b[0m\u001b[0;34m\u001b[0m\u001b[0;34m\u001b[0m\u001b[0m\n\u001b[0m\u001b[1;32m     98\u001b[0m                                                 \u001b[0mpred\u001b[0m \u001b[0;34m=\u001b[0m \u001b[0;34m{\u001b[0m\u001b[0;34m}\u001b[0m\u001b[0;34m\u001b[0m\u001b[0;34m\u001b[0m\u001b[0m\n\u001b[1;32m     99\u001b[0m                                         \u001b[0;32melse\u001b[0m\u001b[0;34m:\u001b[0m\u001b[0;34m\u001b[0m\u001b[0;34m\u001b[0m\u001b[0m\n",
      "\u001b[0;31mIndexError\u001b[0m: index 9 is out of bounds for axis 1 with size 5"
     ]
    }
   ],
   "source": [
    "[iou_acc,\n",
    " hit_acc,\n",
    " att_crr,\n",
    " wrd_idx_list,\n",
    " sen_idx_list,\n",
    " cat_lvl_scores,\n",
    " cat_cnt_correct,\n",
    " cat_cnt_correct_hit,\n",
    " cat_att_correct] = geval()"
   ]
  },
  {
   "cell_type": "code",
   "execution_count": null,
   "metadata": {},
   "outputs": [],
   "source": [
    "#For: ckpt_path = './models/groundnet_vgg_elmo_1x1_vg_final', gnet_config = './configs/vgg_elmo_1x1.yml'\n",
    "# On visual genome\n",
    "#Sample 23999/23999, IoU: 12.98, Pointing Accuracy: 48.11, Attention Correctness: 33.87 ## 47.94 reported\n",
    "# On referit\n",
    "#Sample 1937/1937, IoU: 21.28, Pointing Accuracy: 59.22, Attention Correctness: 40.63 ## 47.52 Reported\n",
    "# On flick30k\n",
    "# 61.66 Reported"
   ]
  },
  {
   "cell_type": "code",
   "execution_count": null,
   "metadata": {},
   "outputs": [],
   "source": []
  }
 ],
 "metadata": {
  "kernelspec": {
   "display_name": "Python 3",
   "language": "python",
   "name": "python3"
  },
  "language_info": {
   "codemirror_mode": {
    "name": "ipython",
    "version": 3
   },
   "file_extension": ".py",
   "mimetype": "text/x-python",
   "name": "python",
   "nbconvert_exporter": "python",
   "pygments_lexer": "ipython3",
   "version": "3.6.7"
  }
 },
 "nbformat": 4,
 "nbformat_minor": 2
}
