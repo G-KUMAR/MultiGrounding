{
 "cells": [
  {
   "cell_type": "code",
   "execution_count": null,
   "metadata": {},
   "outputs": [],
   "source": [
    "# Choose the GPU on which you want to run the evaluation if you are running on a multi-GPU machine\n",
    "GPU_TARGET = 1\n",
    "from evaluators import gnet_evaluator"
   ]
  },
  {
   "cell_type": "code",
   "execution_count": 2,
   "metadata": {},
   "outputs": [
    {
     "name": "stdout",
     "output_type": "stream",
     "text": [
      "flickr30k_pp\n"
     ]
    }
   ],
   "source": [
    "dataset_pp = \"visual_genome_pp\" # OK\n",
    "dataset_pp = \"referit_pp\" # OK\n",
    "dataset_pp = \"flickr30k_pp\" # OK, beware of gnet_evaluator parameter query_level that should be set to 'sentence'\n",
    "# NB: MSCOCO is never used as test set\n",
    "print(dataset_pp)"
   ]
  },
  {
   "cell_type": "code",
   "execution_count": null,
   "metadata": {},
   "outputs": [],
   "source": [
    "path_dict = {'lmdb': '../data/'+dataset_pp+'/images.lmdb',\n",
    "             'annotations': '../data/'+dataset_pp+'/annotations/test.pickle'}\n",
    "\n",
    "# NB: The PNASNet model has not been transformed to V2 yet...\n",
    "#ckpt_path = './models/groundnet_pnas_elmo_1x1_vg-10'\n",
    "#gnet_config = './configs/pnas_elmo_1x1.yml'\n",
    "\n",
    "ckpt_path = './models/groundnet_vgg_elmo_1x1_vg_final'\n",
    "#ckpt_path = './models/groundnet_vgg_elmo_1x1_coco_final'\n",
    "gnet_config = './configs/vgg_elmo_1x1.yml'\n",
    "# For VG or ReferIt\n",
    "#geval = gnet_evaluator(gpu=str(GPU_TARGET), ckpt_path=ckpt_path, data_path=path_dict, gnet_config=gnet_config)\n",
    "# For Flickr30K\n",
    "geval = gnet_evaluator(gpu=str(GPU_TARGET), ckpt_path=ckpt_path, data_path=path_dict, gnet_config=gnet_config, query_level='sentence')"
   ]
  },
  {
   "cell_type": "code",
   "execution_count": 4,
   "metadata": {},
   "outputs": [
    {
     "name": "stdout",
     "output_type": "stream",
     "text": [
      "Sample 547/547, IoU: 22.81, Pointing Accuracy: 58.33, Attention Correctness: 44.97 \r"
     ]
    }
   ],
   "source": [
    "[iou_acc,\n",
    " hit_acc,\n",
    " att_crr,\n",
    " wrd_idx_list,\n",
    " sen_idx_list,\n",
    " cat_lvl_scores,\n",
    " cat_cnt_correct,\n",
    " cat_cnt_correct_hit,\n",
    " cat_att_correct] = geval()"
   ]
  },
  {
   "cell_type": "code",
   "execution_count": 5,
   "metadata": {},
   "outputs": [],
   "source": [
    "# Summary of results that you should be able to obtain\n",
    "#For: ckpt_path = './models/groundnet_vgg_elmo_1x1_vg_final', gnet_config = './configs/vgg_elmo_1x1.yml'\n",
    "# On visual genome\n",
    "#Sample 23999/23999, IoU: 12.98, Pointing Accuracy: 48.11, Attention Correctness: 33.87 ## 48.76 reported\n",
    "# On referit\n",
    "#Sample 1937/1937, IoU: 21.28, Pointing Accuracy: 59.22, Attention Correctness: 40.63 ## 60.01 Reported\n",
    "# On flick30k\n",
    "#Sample 547/547, IoU: 22.81, Pointing Accuracy: 58.33, Attention Correctness: 44.97  ## 60.08 Reported"
   ]
  }
 ],
 "metadata": {
  "kernelspec": {
   "display_name": "Python 3",
   "language": "python",
   "name": "python3"
  },
  "language_info": {
   "codemirror_mode": {
    "name": "ipython",
    "version": 3
   },
   "file_extension": ".py",
   "mimetype": "text/x-python",
   "name": "python",
   "nbconvert_exporter": "python",
   "pygments_lexer": "ipython3",
   "version": "3.6.7"
  }
 },
 "nbformat": 4,
 "nbformat_minor": 2
}
