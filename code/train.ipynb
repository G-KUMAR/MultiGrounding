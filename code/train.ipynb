{
 "cells": [
  {
   "cell_type": "code",
   "execution_count": null,
   "metadata": {},
   "outputs": [],
   "source": [
    "from groundnet import GroundNet\n",
    "from trainers import gnet_trainer, gnet_trainer_distributed"
   ]
  },
  {
   "cell_type": "code",
   "execution_count": null,
   "metadata": {},
   "outputs": [],
   "source": [
    "path_dict = {'lmdb': '../data/saved/coco/images.lmdb',\n",
    "             'annotations': '../data/saved/coco/annotations/train.pickle'}\n",
    "\n",
    "trainer = gnet_trainer_distributed(data_path = path_dict,\n",
    "                                   gpu='0,1',\n",
    "                                   batch_size=32,\n",
    "                                   lr=0.0001,\n",
    "                                   decay_steps=100000,\n",
    "                                   decay_rate=1,\n",
    "                                   grdnt_clip=False,\n",
    "                                   gnet_config='./configs/vgg_bilstm_1x1.yml')"
   ]
  },
  {
   "cell_type": "code",
   "execution_count": null,
   "metadata": {},
   "outputs": [],
   "source": [
    "trainer.train(epochs=10,ckpt_path='./models/groundnet_vgg_bilstm_1x1_coco')"
   ]
  }
 ],
 "metadata": {
  "kernelspec": {
   "display_name": "Python 3",
   "language": "python",
   "name": "python3"
  },
  "language_info": {
   "codemirror_mode": {
    "name": "ipython",
    "version": 3
   },
   "file_extension": ".py",
   "mimetype": "text/x-python",
   "name": "python",
   "nbconvert_exporter": "python",
   "pygments_lexer": "ipython3",
   "version": "3.6.1"
  }
 },
 "nbformat": 4,
 "nbformat_minor": 2
}
